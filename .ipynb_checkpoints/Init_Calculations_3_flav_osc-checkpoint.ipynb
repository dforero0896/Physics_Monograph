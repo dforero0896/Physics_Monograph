{
 "cells": [
  {
   "cell_type": "code",
   "execution_count": 4,
   "metadata": {
    "collapsed": true
   },
   "outputs": [],
   "source": [
    "import numpy as np\n",
    "import matplotlib.pyplot as plt"
   ]
  },
  {
   "cell_type": "code",
   "execution_count": 5,
   "metadata": {},
   "outputs": [],
   "source": [
    "theta1 = np.deg2rad(45.) \n",
    "theta2 = np.deg2rad(5.) #Degrees\n",
    "theta3 = np.deg2rad(45.) #Degrees\n",
    "Ue1 = np.cos(theta2)*np.cos(theta3)\n",
    "Ue2 = np.sin(theta3)*np.cos(theta2)\n",
    "Ue3 = np.sin(theta2)\n",
    "Umu1=-np.sin(theta3)*np.cos(theta1)-np.sin(theta1)*np.sin(theta2)*np.cos(theta3)\n",
    "Umu2=np.cos(theta1)*np.cos(theta3)-np.sin(theta1)*np.sin(theta2)*np.sin(theta3)\n",
    "Umu3=np.sin(theta1)*np.cos(theta2)\n",
    "Ut1=np.sin(theta1)*np.sin(theta3)-np.sin(theta2)*np.cos(theta1)*np.cos(theta3)\n",
    "Ut2=-np.sin(theta1)*np.cos(theta3)-np.sin(theta2)*np.sin(theta3)*np.cos(theta1)\n",
    "Ut3=np.cos(theta1)*np.cos(theta2)\n"
   ]
  },
  {
   "cell_type": "code",
   "execution_count": 6,
   "metadata": {},
   "outputs": [
    {
     "name": "stdout",
     "output_type": "stream",
     "text": [
      "[[ 0.70441603  0.70441603  0.08715574]\n",
      " [-0.54357787  0.45642213  0.70441603]\n",
      " [ 0.45642213 -0.54357787  0.70441603]]\n",
      "[[  1.00000000e+00   6.16150314e-17  -1.19754642e-17]\n",
      " [  6.16150314e-17   1.00000000e+00  -8.57413779e-17]\n",
      " [ -1.19754642e-17  -8.57413779e-17   1.00000000e+00]]\n"
     ]
    }
   ],
   "source": [
    "\n",
    "numCKM=np.matrix([[Ue1, Ue2, Ue3], [Umu1, Umu2, Umu3], [Ut1, Ut2, Ut3]])\n",
    "invCKM=np.linalg.inv(numCKM)\n",
    "print numCKM\n",
    "print numCKM.dot(numCKM.transpose())"
   ]
  },
  {
   "cell_type": "code",
   "execution_count": 8,
   "metadata": {
    "collapsed": true
   },
   "outputs": [],
   "source": [
    "def lon_conversion(lon_km):\n",
    "    return lon_km*1e3/(1.972e-7)"
   ]
  },
  {
   "cell_type": "code",
   "execution_count": 9,
   "metadata": {},
   "outputs": [
    {
     "data": {
      "text/plain": [
       "matrix([[ 0.33953037 -9.40594828e-01j, -0.00046920 -1.67266825e-04j,\n",
       "         -0.00046920 -1.67266825e-04j],\n",
       "        [-0.00046920 -1.67266825e-04j,  0.33584395 -9.41908904e-01j,\n",
       "         -0.00379217 -1.35199133e-03j],\n",
       "        [-0.00046920 -1.67266825e-04j, -0.00379217 -1.35199133e-03j,\n",
       "          0.33584395 -9.41908904e-01j]])"
      ]
     },
     "execution_count": 9,
     "metadata": {},
     "output_type": "execute_result"
    }
   ],
   "source": [
    "dM32 = 3.2e-3#eV^2\n",
    "dm21 = 0.#eV^2\n",
    "\n",
    "\n",
    "def calculateOperator(neutrinoEnergy, A, L):\n",
    "    global dM32, dm21\n",
    "    E32= dM32/(2.*neutrinoEnergy)\n",
    "    E21= dm21/(2.*neutrinoEnergy)\n",
    "    E12=-E21\n",
    "    E23=-E32\n",
    "    E31=-E12-E23\n",
    "    E13=-E31\n",
    "    T_11=A*Ue1*Ue1-(1./3)*A+(1./3)*(E12+E13)\n",
    "    T_12=A*Ue1*Ue2\n",
    "    T_13=A*Ue1*Ue3\n",
    "    T_21=T_12\n",
    "    T_22=A*Ue2*Ue2-(1./3)*A+(1./3)*(E21+E23)\n",
    "    T_23=A*Ue2*Ue3\n",
    "    T_31=T_13\n",
    "    T_32=T_23\n",
    "    T_33=A*Ue3*Ue3-(1./3)*A+(1./3)*(E31+E32)\n",
    "    T_mass_mat=np.matrix([[T_11, T_12, T_13], \\\n",
    "             [T_21, T_22, T_23],\\\n",
    "            [T_31, T_32, T_33]])\n",
    "    T_sq_mass_mat=T_mass_mat**2\n",
    "    c1=T_11*T_22-T_12*T_21+T_11*T_33-T_13*T_31+T_22*T_33-T_23*T_32\n",
    "    c0=-(T_11*T_22*T_33-T_11*T_23*T_32-T_12*T_21*T_33+T_12*T_31*T_23+T_13*T_21*T_32-T_13*T_31*T_22)\n",
    "    eigVal,_ =np.linalg.eig(T_mass_mat)\n",
    "    lam3, lam2, lam1 = eigVal[:]\n",
    "    \n",
    "    T_flav_mat=numCKM.dot(T_mass_mat).dot(numCKM.transpose())\n",
    "    T_sq_flav_mat=numCKM.dot(T_sq_mass_mat).dot(numCKM.transpose())\n",
    "    trace_hamiltonian=0.5*E21+E32+3*neutrinoEnergy+A\n",
    "    phi_phase=np.exp(-1j*L*trace_hamiltonian/3)\n",
    "   \n",
    "    evol_operator=np.matrix([[0, 0, 0], [0, 0, 0], [0, 0, 0]])\n",
    "    for lam in eigVal:\n",
    "        I_term= np.identity(3)*(lam**2+c1)\n",
    "        T_term=lam*T_flav_mat\n",
    "        evol_operator=evol_operator+phi_phase*np.exp(-1j*L*lam)*(I_term+T_term+T_sq_flav_mat)*1./(3*lam**2+c1)\n",
    "    return evol_operator\n",
    "calculateOperator(1e9, 1e-14, lon_conversion(1.))"
   ]
  },
  {
   "cell_type": "code",
   "execution_count": 10,
   "metadata": {
    "collapsed": true
   },
   "outputs": [],
   "source": [
    "EnergyLinsp=np.linspace(1e9, 1e10, 100)\n",
    "SpaceArr=np.linspace(0, (2885.+6972.), 10000)\n",
    "densityStep=np.zeros(10000)\n",
    "densityStep[SpaceArr<=2885.]=1.7e-13\n",
    "densityStep[SpaceArr>2885.]=4.4e-13"
   ]
  },
  {
   "cell_type": "code",
   "execution_count": null,
   "metadata": {},
   "outputs": [],
   "source": [
    "Probs=np.zeros(100)\n",
    "for i in range(len(EnergyLinsp)):\n",
    "    E=EnergyLinsp[i]\n",
    "    \n",
    "    accOper=np.identity(3)\n",
    "    for k in range(10000):\n",
    "        L=SpaceArr[k]\n",
    "        A=densityStep[k]\n",
    "        acc=np.copy(accOper)\n",
    "        thisLOperator=calculateOperator(E,A,lon_conversion(L))\n",
    "        accOper=thisLOperator.dot(acc)\n",
    "    #herm=accOper.getH()\n",
    "    #ProbMat=accOper.dot(herm)\n",
    "    #ProbMat=abs(accOper)**2\n",
    "    #print accOper[1,1], type(accOper[0,1]), herm[1,1], ProbMat[0,0]\n",
    "    Probs[i]=np.absolute(accOper[1,0])**2"
   ]
  },
  {
   "cell_type": "code",
   "execution_count": null,
   "metadata": {},
   "outputs": [],
   "source": [
    "\n",
    "plt.plot(EnergyLinsp,Probs)\n",
    "plt.show()"
   ]
  },
  {
   "cell_type": "code",
   "execution_count": 17,
   "metadata": {},
   "outputs": [
    {
     "name": "stdout",
     "output_type": "stream",
     "text": [
      "[[-135.+1080.j -135.+1080.j -135.+1080.j]\n",
      " [-135.+1080.j -135.+1080.j -135.+1080.j]\n",
      " [-135.+1080.j -135.+1080.j -135.+1080.j]]\n"
     ]
    }
   ],
   "source": [
    "lista=[]\n",
    "for i in range(1, 5):\n",
    "    element=i+(i-1)*1j\n",
    "    lista.append(np.matrix([[element, element, element], [element, element, element], [element, element, element]]))\n",
    "print lista[3].dot(lista[2]).dot(lista[1]).dot(lista[0])    "
   ]
  },
  {
   "cell_type": "code",
   "execution_count": 18,
   "metadata": {},
   "outputs": [
    {
     "name": "stdout",
     "output_type": "stream",
     "text": [
      "[[-135.+1080.j -135.+1080.j -135.+1080.j]\n",
      " [-135.+1080.j -135.+1080.j -135.+1080.j]\n",
      " [-135.+1080.j -135.+1080.j -135.+1080.j]]\n"
     ]
    }
   ],
   "source": [
    "operator_product=np.identity(3)\n",
    "for i in range(1, 5):\n",
    "    element=i+(i-1)*1j\n",
    "    iter_operator=np.matrix([[element, element, element], [element, element, element], [element, element, element]])\n",
    "    operator_product_copy=np.copy(operator_product)\n",
    "    operator_product=iter_operator.dot(operator_product_copy)\n",
    "    \n",
    "print operator_product\n",
    "    "
   ]
  }
 ],
 "metadata": {
  "anaconda-cloud": {},
  "kernelspec": {
   "display_name": "Python [conda root]",
   "language": "python",
   "name": "conda-root-py"
  },
  "language_info": {
   "codemirror_mode": {
    "name": "ipython",
    "version": 2
   },
   "file_extension": ".py",
   "mimetype": "text/x-python",
   "name": "python",
   "nbconvert_exporter": "python",
   "pygments_lexer": "ipython2",
   "version": "2.7.12"
  }
 },
 "nbformat": 4,
 "nbformat_minor": 1
}
