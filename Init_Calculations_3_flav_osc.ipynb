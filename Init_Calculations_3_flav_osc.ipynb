{
 "cells": [
  {
   "cell_type": "code",
   "execution_count": 1,
   "metadata": {
    "collapsed": true
   },
   "outputs": [],
   "source": [
    "import numpy as np\n",
    "from sympy import *\n",
    "init_printing()"
   ]
  },
  {
   "cell_type": "code",
   "execution_count": 2,
   "metadata": {
    "collapsed": false
   },
   "outputs": [
    {
     "data": {
      "text/latex": [
       "$$\\left[\\begin{matrix}\\cos{\\left (\\theta_{2} \\right )} \\cos{\\left (\\theta_{3} \\right )} & \\sin{\\left (\\theta_{3} \\right )} \\cos{\\left (\\theta_{2} \\right )} & \\sin{\\left (\\theta_{2} \\right )}\\\\- \\sin{\\left (\\theta_{1} \\right )} \\sin{\\left (\\theta_{2} \\right )} \\cos{\\left (\\theta_{3} \\right )} - \\sin{\\left (\\theta_{3} \\right )} \\cos{\\left (\\theta_{1} \\right )} & - \\sin{\\left (\\theta_{1} \\right )} \\sin{\\left (\\theta_{2} \\right )} \\sin{\\left (\\theta_{3} \\right )} + \\cos{\\left (\\theta_{1} \\right )} \\cos{\\left (\\theta_{3} \\right )} & \\sin{\\left (\\theta_{1} \\right )} \\cos{\\left (\\theta_{2} \\right )}\\\\\\sin{\\left (\\theta_{1} \\right )} \\sin{\\left (\\theta_{3} \\right )} - \\sin{\\left (\\theta_{2} \\right )} \\cos{\\left (\\theta_{1} \\right )} \\cos{\\left (\\theta_{3} \\right )} & - \\sin{\\left (\\theta_{1} \\right )} \\cos{\\left (\\theta_{3} \\right )} - \\sin{\\left (\\theta_{2} \\right )} \\sin{\\left (\\theta_{3} \\right )} \\cos{\\left (\\theta_{1} \\right )} & \\cos{\\left (\\theta_{1} \\right )} \\cos{\\left (\\theta_{2} \\right )}\\end{matrix}\\right]$$"
      ],
      "text/plain": [
       "⎡             cos(θ₂)⋅cos(θ₃)                             sin(θ₃)⋅cos(θ₂)     \n",
       "⎢                                                                             \n",
       "⎢-sin(θ₁)⋅sin(θ₂)⋅cos(θ₃) - sin(θ₃)⋅cos(θ₁)  -sin(θ₁)⋅sin(θ₂)⋅sin(θ₃) + cos(θ₁\n",
       "⎢                                                                             \n",
       "⎣sin(θ₁)⋅sin(θ₃) - sin(θ₂)⋅cos(θ₁)⋅cos(θ₃)   -sin(θ₁)⋅cos(θ₃) - sin(θ₂)⋅sin(θ₃\n",
       "\n",
       "               sin(θ₂)    ⎤\n",
       "                          ⎥\n",
       ")⋅cos(θ₃)  sin(θ₁)⋅cos(θ₂)⎥\n",
       "                          ⎥\n",
       ")⋅cos(θ₁)  cos(θ₁)⋅cos(θ₂)⎦"
      ]
     },
     "execution_count": 2,
     "metadata": {},
     "output_type": "execute_result"
    }
   ],
   "source": [
    "U11, U12, U13, U21, U22, U23, U31, U32, U33 = \\\n",
    "symbols('U_11 U_12 U_13 U_21 U_22 U_23 U_31 U_32 U_33')\n",
    "\n",
    "th1, th2, th3=symbols('theta_1 theta_2 theta_3') #Vacuum mixing angles\n",
    "C1, C2, C3, S1, S2, S3=symbols('C_1 C_2 C_3 S_1 S_2 S_3')\n",
    "C1=cos(th1)\n",
    "C2=cos(th2)\n",
    "C3=cos(th3)\n",
    "S1=sin(th1)\n",
    "S2=sin(th2)\n",
    "S3=sin(th3)\n",
    "U11=C2*C3\n",
    "U12=S3*C2\n",
    "U13=S2\n",
    "U21=-S3*C1-S1*S2*C3\n",
    "U22=C1*C3-S1*S2*S3\n",
    "U23=S1*C2\n",
    "U31=S1*S3-S2*C1*C3\n",
    "U32=-S1*C3-S2*S3*C1\n",
    "U33=C1*C2\n",
    "CKM=Matrix([[U11, U12, U13], [U21, U22, U23], [U31, U32, U33]])\n",
    "CKM"
   ]
  },
  {
   "cell_type": "code",
   "execution_count": 3,
   "metadata": {
    "collapsed": false
   },
   "outputs": [],
   "source": [
    "Ue1, Ue2, Ue3, Umu1, Umu2, Umu3, Ut1, Ut2, Ut3 = \\\n",
    "symbols('U_e1 U_e2 U_e3 U_mu1 U_mu2 U_mu3 U_tau1 U_tau2 U_tau3')\n",
    "CKMgen=Matrix([[Ue1, Ue2, Ue3], [Umu1, Umu2, Umu3], [Ut1, Ut2, Ut3]])\n",
    "ICKMgen=CKMgen.transpose()\n"
   ]
  },
  {
   "cell_type": "code",
   "execution_count": 4,
   "metadata": {
    "collapsed": false
   },
   "outputs": [],
   "source": [
    "ICKM=simplify(CKM**-1) #Inverse CKM matrix\n",
    "E1, E2, E3 =symbols('E_1 E_2 E_3')\n",
    "Hm0=Matrix([[E1, 0, 0], [0, E2, 0], [0, 0, E3]]) #Hamiltonian in mass eigenbase"
   ]
  },
  {
   "cell_type": "code",
   "execution_count": 5,
   "metadata": {
    "collapsed": false
   },
   "outputs": [
    {
     "data": {
      "text/latex": [
       "$$\\left[\\begin{matrix}A & 0 & 0\\\\0 & 0 & 0\\\\0 & 0 & 0\\end{matrix}\\right]$$"
      ],
      "text/plain": [
       "⎡A  0  0⎤\n",
       "⎢       ⎥\n",
       "⎢0  0  0⎥\n",
       "⎢       ⎥\n",
       "⎣0  0  0⎦"
      ]
     },
     "execution_count": 5,
     "metadata": {},
     "output_type": "execute_result"
    }
   ],
   "source": [
    "A=symbols('A') #Matter density\n",
    "Vf=A*Matrix([[1, 0, 0], [0, 0, 0], [0, 0, 0]])# Perturbation flavor basis\n",
    "Vf"
   ]
  },
  {
   "cell_type": "code",
   "execution_count": 6,
   "metadata": {
    "collapsed": false
   },
   "outputs": [
    {
     "data": {
      "text/latex": [
       "$$\\left[\\begin{matrix}A U_{e1}^{2} + E_{1} & A U_{e1} U_{e2} & A U_{e1} U_{e3}\\\\A U_{e1} U_{e2} & A U_{e2}^{2} + E_{2} & A U_{e2} U_{e3}\\\\A U_{e1} U_{e3} & A U_{e2} U_{e3} & A U_{e3}^{2} + E_{3}\\end{matrix}\\right]$$"
      ],
      "text/plain": [
       "⎡     2                               ⎤\n",
       "⎢A⋅Uₑ₁  + E₁   A⋅Uₑ₁⋅Uₑ₂    A⋅Uₑ₁⋅Uₑ₃ ⎥\n",
       "⎢                                     ⎥\n",
       "⎢                  2                  ⎥\n",
       "⎢ A⋅Uₑ₁⋅Uₑ₂   A⋅Uₑ₂  + E₂   A⋅Uₑ₂⋅Uₑ₃ ⎥\n",
       "⎢                                     ⎥\n",
       "⎢                               2     ⎥\n",
       "⎣ A⋅Uₑ₁⋅Uₑ₃    A⋅Uₑ₂⋅Uₑ₃   A⋅Uₑ₃  + E₃⎦"
      ]
     },
     "execution_count": 6,
     "metadata": {},
     "output_type": "execute_result"
    }
   ],
   "source": [
    "Vm=ICKMgen*Vf*CKMgen # Perturbation mass basis\n",
    "\n",
    "Hm=Hm0+Vm\n",
    "Hm\n"
   ]
  },
  {
   "cell_type": "code",
   "execution_count": 7,
   "metadata": {
    "collapsed": false
   },
   "outputs": [
    {
     "data": {
      "text/latex": [
       "$$\\left[\\begin{matrix}A U_{e1}^{2} - \\frac{A}{3} + \\frac{E_{12}}{3} + \\frac{E_{13}}{3} & A U_{e1} U_{e2} & A U_{e1} U_{e3}\\\\A U_{e1} U_{e2} & A U_{e2}^{2} - \\frac{A}{3} - \\frac{E_{12}}{3} + \\frac{E_{23}}{3} & A U_{e2} U_{e3}\\\\A U_{e1} U_{e3} & A U_{e2} U_{e3} & A U_{e3}^{2} - \\frac{A}{3} - \\frac{E_{13}}{3} - \\frac{E_{23}}{3}\\end{matrix}\\right]$$"
      ],
      "text/plain": [
       "⎡     2   A   E₁₂   E₁₃                                                ⎤\n",
       "⎢A⋅Uₑ₁  - ─ + ─── + ───        A⋅Uₑ₁⋅Uₑ₂               A⋅Uₑ₁⋅Uₑ₃       ⎥\n",
       "⎢         3    3     3                                                 ⎥\n",
       "⎢                                                                      ⎥\n",
       "⎢                             2   A   E₁₂   E₂₃                        ⎥\n",
       "⎢      A⋅Uₑ₁⋅Uₑ₂         A⋅Uₑ₂  - ─ - ─── + ───        A⋅Uₑ₂⋅Uₑ₃       ⎥\n",
       "⎢                                 3    3     3                         ⎥\n",
       "⎢                                                                      ⎥\n",
       "⎢                                                     2   A   E₁₃   E₂₃⎥\n",
       "⎢      A⋅Uₑ₁⋅Uₑ₃               A⋅Uₑ₂⋅Uₑ₃         A⋅Uₑ₃  - ─ - ─── - ───⎥\n",
       "⎣                                                         3    3     3 ⎦"
      ]
     },
     "execution_count": 7,
     "metadata": {},
     "output_type": "execute_result"
    }
   ],
   "source": [
    "Id=Matrix([[1, 0, 0], [0, 1, 0], [0, 0, 1]])\n",
    "T=simplify(Hm-(E1+E2+E3+A)/3*Id)\n",
    "T=T.as_mutable()\n",
    "E12, E13, E21, E23, E31, E32=symbols('E_12 E_13 E_21 E_23 E_31 E_32')\n",
    "#E12=E1-E2\n",
    "#E13=E1-E3\n",
    "#E21=E2-E1\n",
    "#E23=E2-E3\n",
    "#E32=E3-E2\n",
    "#E31=E3-E1\n",
    "T[0,0]=T[0, 0]-(2*E1-E2-E3)/3+(E12 + E13)/3\n",
    "T[1,1]=T[1, 1]-(2*E2-E1-E3)/3+(-E12 + E23)/3\n",
    "T[2,2]=T[2, 2]-(2*E3-E1-E2)/3+(-E13 - E23)/3\n",
    "\n",
    "T"
   ]
  },
  {
   "cell_type": "code",
   "execution_count": 8,
   "metadata": {
    "collapsed": false
   },
   "outputs": [],
   "source": [
    "lam=symbols('lambda')\n",
    "char_pol=(lam*Id-T).det()\n",
    "#char_pol=simplify(char_pol)"
   ]
  },
  {
   "cell_type": "code",
   "execution_count": 9,
   "metadata": {
    "collapsed": false
   },
   "outputs": [],
   "source": [
    "\n",
    "char_pol=collect(char_pol, lam, evaluate=False)"
   ]
  },
  {
   "cell_type": "code",
   "execution_count": 10,
   "metadata": {
    "collapsed": false
   },
   "outputs": [
    {
     "data": {
      "image/png": "[encoded data removed]",
      "text/latex": [
       "$$\\frac{E_{12}^{2} U_{e3}^{2}}{9} - \\frac{E_{12}^{2}}{27} + E_{12} E_{13} \\left(- \\frac{U_{e1}^{2}}{9} + \\frac{U_{e2}^{2}}{9} + \\frac{U_{e3}^{2}}{9} - \\frac{1}{27}\\right) - \\frac{E_{12} E_{23}}{9} U_{e1}^{2} + \\frac{E_{12} E_{23}}{9} U_{e2}^{2} - \\frac{E_{12} E_{23}}{9} U_{e3}^{2} + \\frac{E_{12} E_{23}}{27} + \\frac{E_{13}^{2} U_{e2}^{2}}{9} - \\frac{E_{13}^{2}}{27} + \\frac{E_{13} E_{23}}{9} U_{e1}^{2} + \\frac{E_{13} E_{23}}{9} U_{e2}^{2} - \\frac{E_{13} E_{23}}{9} U_{e3}^{2} - \\frac{E_{13} E_{23}}{27} + \\frac{E_{23}^{2} U_{e1}^{2}}{9} - \\frac{E_{23}^{2}}{27}$$"
      ],
      "text/plain": [
       "   2    2      2           ⎛     2      2      2     ⎞              2         \n",
       "E₁₂ ⋅Uₑ₃    E₁₂            ⎜  Uₑ₁    Uₑ₂    Uₑ₃    1 ⎟   E₁₂⋅E₂₃⋅Uₑ₁    E₁₂⋅E₂\n",
       "───────── - ──── + E₁₂⋅E₁₃⋅⎜- ──── + ──── + ──── - ──⎟ - ──────────── + ──────\n",
       "    9        27            ⎝   9      9      9     27⎠        9              9\n",
       "\n",
       "     2              2                2    2      2              2             \n",
       "₃⋅Uₑ₂    E₁₂⋅E₂₃⋅Uₑ₃    E₁₂⋅E₂₃   E₁₃ ⋅Uₑ₂    E₁₃    E₁₃⋅E₂₃⋅Uₑ₁    E₁₃⋅E₂₃⋅Uₑ\n",
       "────── - ──────────── + ─────── + ───────── - ──── + ──────────── + ──────────\n",
       "              9            27         9        27         9              9    \n",
       "\n",
       " 2              2                2    2      2\n",
       "₂    E₁₃⋅E₂₃⋅Uₑ₃    E₁₃⋅E₂₃   E₂₃ ⋅Uₑ₁    E₂₃ \n",
       "── - ──────────── - ─────── + ───────── - ────\n",
       "          9            27         9        27 "
      ]
     },
     "execution_count": 10,
     "metadata": {},
     "output_type": "execute_result"
    }
   ],
   "source": [
    "c2=char_pol[lam**2]\n",
    "c0=char_pol[1]\n",
    "c1=char_pol[lam]\n",
    "c1=collect(c1, A, evaluate=False)\n",
    "c1[A**2]=nsimplify(-1./3)\n",
    "c1=c1[A]*A + c1[1] + c1[A**2]*A**2\n",
    "c2=0\n",
    "c0=collect(c0, A, evaluate=False)\n",
    "c0[A**3]=0\n",
    "collect(c0[A], E12*E13)"
   ]
  },
  {
   "cell_type": "code",
   "execution_count": 11,
   "metadata": {
    "collapsed": false
   },
   "outputs": [],
   "source": [
    "#solve(char_pol, lam)"
   ]
  },
  {
   "cell_type": "code",
   "execution_count": 13,
   "metadata": {
    "collapsed": false
   },
   "outputs": [],
   "source": [
    "theta1 = 45. #Degrees\n",
    "theta2 = 5. #Degrees\n",
    "theta3 = 45. #Degrees\n",
    "Ue1 = np.cos(theta2)*np.cos(theta3)\n",
    "Ue2 = np.sin(theta3)*np.cos(theta2)\n",
    "Ue3 = np.sin(theta2)\n",
    "Umu1=-np.sin(theta3)*np.cos(theta1)-np.sin(theta1)*np.sin(theta2)*np.cos(theta3)\n",
    "Umu2=np.cos(theta1)*np.cos(theta3)-np.sin(theta1)*np.sin(theta2)*np.sin(theta3)\n",
    "Umu3=np.sin(theta1)*np.cos(theta2)\n",
    "Ut1=np.sin(theta1)*np.sin(theta3)-np.sin(theta2)*np.cos(theta2)*np.cos(theta3)\n",
    "Ut2=-np.sin(theta1)*np.cos(theta3)-np.sin(theta2)*np.sin(theta3)*np.cos(theta1)\n",
    "Ut3=np.cos(theta1)*np.cos(theta2)\n"
   ]
  },
  {
   "cell_type": "code",
   "execution_count": 15,
   "metadata": {
    "collapsed": false
   },
   "outputs": [
    {
     "name": "stdout",
     "output_type": "stream",
     "text": [
      "[[ 0.14901398  0.24136915 -0.95892427]\n",
      " [-0.01836078  0.97025966  0.24136915]\n",
      " [ 0.86692993 -0.01836078  0.14901398]]\n"
     ]
    }
   ],
   "source": [
    "numCKM=np.matrix([[Ue1, Ue2, Ue3], [Umu1, Umu2, Umu3], [Ut1, Ut2, Ut3]])\n",
    "print numCKM"
   ]
  },
  {
   "cell_type": "code",
   "execution_count": 22,
   "metadata": {
    "collapsed": false
   },
   "outputs": [
    {
     "name": "stdout",
     "output_type": "stream",
     "text": [
      "[[ 0.02220517  0.03596738 -0.14289313]\n",
      " [ 0.03596738  0.05825907 -0.23145474]\n",
      " [-0.14289313 -0.23145474  0.91953576]]\n"
     ]
    }
   ],
   "source": [
    "A=1.0 #(1/sqrt(2))*G_f*(1/(m_N*1E-3))*density(L);\n",
    "numICKM = numCKM.transpose()\n",
    "V_f=A*np.matrix([[1., 0., 0.], [0., 0., 0.], [0., 0., 0.]])\n",
    "V_m=numICKM*V_f*numCKM\n",
    "print V_m"
   ]
  },
  {
   "cell_type": "code",
   "execution_count": 24,
   "metadata": {
    "collapsed": true
   },
   "outputs": [],
   "source": [
    "neutEnergy=1.\n",
    "\n",
    "dM32 = 3.2e-3#eV^2\n",
    "dm21 = 0.#eV^2\n",
    "E32= dM32/(2.*neutEnergy)\n",
    "E21= dm21/(2.*neutEnergy)\n",
    "E12=-E21\n",
    "E23=-E32\n",
    "E31=-E12-E23\n",
    "E13=-E31"
   ]
  },
  {
   "cell_type": "code",
   "execution_count": 30,
   "metadata": {
    "collapsed": false
   },
   "outputs": [
    {
     "name": "stdout",
     "output_type": "stream",
     "text": [
      "[[-0.33386667  0.          0.        ]\n",
      " [ 0.         -0.33386667  0.        ]\n",
      " [ 0.          0.         -0.33226667]]\n"
     ]
    }
   ],
   "source": [
    "traceHM=np.matrix([[(1./3.)*(E12+E13-A), 0., 0.], [0., (1./3.)*(E21+E23-A), 0.],[0., 0., (1./3.)*(E31+E32-A)]])\n",
    "print traceHM"
   ]
  },
  {
   "cell_type": "code",
   "execution_count": 32,
   "metadata": {
    "collapsed": false
   },
   "outputs": [
    {
     "name": "stdout",
     "output_type": "stream",
     "text": [
      "[[-0.3116615   0.03596738 -0.14289313]\n",
      " [ 0.03596738 -0.2756076  -0.23145474]\n",
      " [-0.14289313 -0.23145474  0.5872691 ]]\n"
     ]
    }
   ],
   "source": [
    "T=V_m+traceHM\n",
    "print T"
   ]
  },
  {
   "cell_type": "code",
   "execution_count": 34,
   "metadata": {
    "collapsed": false
   },
   "outputs": [
    {
     "name": "stdout",
     "output_type": "stream",
     "text": [
      "-0.0743872159002\n"
     ]
    }
   ],
   "source": [
    "c0=-1.*np.linalg.det(T)\n",
    "print c0"
   ]
  }
 ],
 "metadata": {
  "anaconda-cloud": {},
  "kernelspec": {
   "display_name": "Python [conda root]",
   "language": "python",
   "name": "conda-root-py"
  },
  "language_info": {
   "codemirror_mode": {
    "name": "ipython",
    "version": 2
   },
   "file_extension": ".py",
   "mimetype": "text/x-python",
   "name": "python",
   "nbconvert_exporter": "python",
   "pygments_lexer": "ipython2",
   "version": "2.7.12"
  }
 },
 "nbformat": 4,
 "nbformat_minor": 1
}
