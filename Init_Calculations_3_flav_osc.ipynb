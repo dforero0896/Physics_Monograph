{
 "cells": [
  {
   "cell_type": "code",
   "execution_count": 1,
   "metadata": {
    "collapsed": true
   },
   "outputs": [],
   "source": [
    "import numpy as np\n",
    "from sympy import *\n",
    "init_printing()"
   ]
  },
  {
   "cell_type": "markdown",
   "metadata": {
    "collapsed": false
   },
   "source": [
    "U11, U12, U13, U21, U22, U23, U31, U32, U33 = \\\n",
    "symbols('U_11 U_12 U_13 U_21 U_22 U_23 U_31 U_32 U_33')\n",
    "\n",
    "th1, th2, th3=symbols('theta_1 theta_2 theta_3') #Vacuum mixing angles\n",
    "C1, C2, C3, S1, S2, S3=symbols('C_1 C_2 C_3 S_1 S_2 S_3')\n",
    "C1=cos(th1)\n",
    "C2=cos(th2)\n",
    "C3=cos(th3)\n",
    "S1=sin(th1)\n",
    "S2=sin(th2)\n",
    "S3=sin(th3)\n",
    "U11=C2*C3\n",
    "U12=S3*C2\n",
    "U13=S2\n",
    "U21=-S3*C1-S1*S2*C3\n",
    "U22=C1*C3-S1*S2*S3\n",
    "U23=S1*C2\n",
    "U31=S1*S3-S2*C1*C3\n",
    "U32=-S1*C3-S2*S3*C1\n",
    "U33=C1*C2\n",
    "CKM=Matrix([[U11, U12, U13], [U21, U22, U23], [U31, U32, U33]])\n",
    "CKM"
   ]
  },
  {
   "cell_type": "markdown",
   "metadata": {
    "collapsed": false
   },
   "source": [
    "Ue1, Ue2, Ue3, Umu1, Umu2, Umu3, Ut1, Ut2, Ut3 = \\\n",
    "symbols('U_e1 U_e2 U_e3 U_mu1 U_mu2 U_mu3 U_tau1 U_tau2 U_tau3')\n",
    "CKMgen=Matrix([[Ue1, Ue2, Ue3], [Umu1, Umu2, Umu3], [Ut1, Ut2, Ut3]])\n",
    "ICKMgen=CKMgen.transpose()\n"
   ]
  },
  {
   "cell_type": "markdown",
   "metadata": {
    "collapsed": false
   },
   "source": [
    "ICKM=simplify(CKM**-1) #Inverse CKM matrix\n",
    "E1, E2, E3 =symbols('E_1 E_2 E_3')\n",
    "Hm0=Matrix([[E1, 0, 0], [0, E2, 0], [0, 0, E3]]) #Hamiltonian in mass eigenbase"
   ]
  },
  {
   "cell_type": "markdown",
   "metadata": {
    "collapsed": false
   },
   "source": [
    "A=symbols('A') #Matter density\n",
    "Vf=A*Matrix([[1, 0, 0], [0, 0, 0], [0, 0, 0]])# Perturbation flavor basis\n",
    "Vf"
   ]
  },
  {
   "cell_type": "markdown",
   "metadata": {
    "collapsed": false
   },
   "source": [
    "Vm=ICKMgen*Vf*CKMgen # Perturbation mass basis\n",
    "\n",
    "Hm=Hm0+Vm\n",
    "Hm\n"
   ]
  },
  {
   "cell_type": "markdown",
   "metadata": {
    "collapsed": false
   },
   "source": [
    "Id=Matrix([[1, 0, 0], [0, 1, 0], [0, 0, 1]])\n",
    "T=simplify(Hm-(E1+E2+E3+A)/3*Id)\n",
    "T=T.as_mutable()\n",
    "E12, E13, E21, E23, E31, E32=symbols('E_12 E_13 E_21 E_23 E_31 E_32')\n",
    "#E12=E1-E2\n",
    "#E13=E1-E3\n",
    "#E21=E2-E1\n",
    "#E23=E2-E3\n",
    "#E32=E3-E2\n",
    "#E31=E3-E1\n",
    "T[0,0]=T[0, 0]-(2*E1-E2-E3)/3+(E12 + E13)/3\n",
    "T[1,1]=T[1, 1]-(2*E2-E1-E3)/3+(-E12 + E23)/3\n",
    "T[2,2]=T[2, 2]-(2*E3-E1-E2)/3+(-E13 - E23)/3\n",
    "\n",
    "T"
   ]
  },
  {
   "cell_type": "markdown",
   "metadata": {
    "collapsed": false
   },
   "source": [
    "lam=symbols('lambda')\n",
    "char_pol=(lam*Id-T).det()\n",
    "#char_pol=simplify(char_pol)"
   ]
  },
  {
   "cell_type": "markdown",
   "metadata": {
    "collapsed": false
   },
   "source": [
    "\n",
    "char_pol=collect(char_pol, lam, evaluate=False)"
   ]
  },
  {
   "cell_type": "markdown",
   "metadata": {
    "collapsed": false
   },
   "source": [
    "c2=char_pol[lam**2]\n",
    "c0=char_pol[1]\n",
    "c1=char_pol[lam]\n",
    "c1=collect(c1, A, evaluate=False)\n",
    "c1[A**2]=nsimplify(-1./3)\n",
    "c1=c1[A]*A + c1[1] + c1[A**2]*A**2\n",
    "c2=0\n",
    "c0=collect(c0, A, evaluate=False)\n",
    "c0[A**3]=0\n",
    "collect(c0[A], E12*E13)"
   ]
  },
  {
   "cell_type": "code",
   "execution_count": 2,
   "metadata": {
    "collapsed": false
   },
   "outputs": [],
   "source": [
    "#solve(char_pol, lam)"
   ]
  },
  {
   "cell_type": "code",
   "execution_count": 3,
   "metadata": {
    "collapsed": false
   },
   "outputs": [],
   "source": [
    "theta1 = 45. #Degrees\n",
    "theta2 = 5. #Degrees\n",
    "theta3 = 45. #Degrees\n",
    "Ue1 = np.cos(theta2)*np.cos(theta3)\n",
    "Ue2 = np.sin(theta3)*np.cos(theta2)\n",
    "Ue3 = np.sin(theta2)\n",
    "Umu1=-np.sin(theta3)*np.cos(theta1)-np.sin(theta1)*np.sin(theta2)*np.cos(theta3)\n",
    "Umu2=np.cos(theta1)*np.cos(theta3)-np.sin(theta1)*np.sin(theta2)*np.sin(theta3)\n",
    "Umu3=np.sin(theta1)*np.cos(theta2)\n",
    "Ut1=np.sin(theta1)*np.sin(theta3)-np.sin(theta2)*np.cos(theta2)*np.cos(theta3)\n",
    "Ut2=-np.sin(theta1)*np.cos(theta3)-np.sin(theta2)*np.sin(theta3)*np.cos(theta1)\n",
    "Ut3=np.cos(theta1)*np.cos(theta2)\n"
   ]
  },
  {
   "cell_type": "code",
   "execution_count": 4,
   "metadata": {
    "collapsed": false
   },
   "outputs": [
    {
     "name": "stdout",
     "output_type": "stream",
     "text": [
      "[[ 0.14901398  0.24136915 -0.95892427]\n",
      " [-0.01836078  0.97025966  0.24136915]\n",
      " [ 0.86692993 -0.01836078  0.14901398]]\n"
     ]
    }
   ],
   "source": [
    "numCKM=np.matrix([[Ue1, Ue2, Ue3], [Umu1, Umu2, Umu3], [Ut1, Ut2, Ut3]])\n",
    "print numCKM\n"
   ]
  },
  {
   "cell_type": "code",
   "execution_count": 5,
   "metadata": {
    "collapsed": false
   },
   "outputs": [],
   "source": [
    "A=1e-13 #(1/sqrt(2))*G_f*(1/(m_N*1E-3))*density(L);\n",
    "numICKM = numCKM.transpose()\n",
    "V_f=A*np.matrix([[1., 0., 0.], [0., 0., 0.], [0., 0., 0.]])\n",
    "\n",
    "\n",
    "V_m=numICKM*V_f*numCKM\n",
    "\n"
   ]
  },
  {
   "cell_type": "code",
   "execution_count": 6,
   "metadata": {
    "collapsed": true
   },
   "outputs": [],
   "source": [
    "neutEnergy=1e9\n",
    "L=1e3\n",
    "dM32 = 3.2e-3#eV^2\n",
    "dm21 = 0.#eV^2\n",
    "E32= dM32/(2.*neutEnergy)\n",
    "E21= dm21/(2.*neutEnergy)\n",
    "E12=-E21\n",
    "E23=-E32\n",
    "E31=-E12-E23\n",
    "E13=-E31"
   ]
  },
  {
   "cell_type": "code",
   "execution_count": 7,
   "metadata": {
    "collapsed": false
   },
   "outputs": [
    {
     "name": "stdout",
     "output_type": "stream",
     "text": [
      "[[ -5.66666667e-13   0.00000000e+00   0.00000000e+00]\n",
      " [  0.00000000e+00  -5.66666667e-13   0.00000000e+00]\n",
      " [  0.00000000e+00   0.00000000e+00   1.03333333e-12]]\n"
     ]
    }
   ],
   "source": [
    "traceHM=np.matrix([[(1./3.)*(E12+E13-A), 0., 0.], [0., (1./3.)*(E21+E23-A), 0.],[0., 0., (1./3.)*(E31+E32-A)]])\n",
    "print traceHM"
   ]
  },
  {
   "cell_type": "code",
   "execution_count": 8,
   "metadata": {
    "collapsed": false
   },
   "outputs": [
    {
     "name": "stdout",
     "output_type": "stream",
     "text": [
      "[[ -5.64446150e-13   3.59673790e-15  -1.42893126e-14]\n",
      " [  3.59673790e-15  -5.60840760e-13  -2.31454740e-14]\n",
      " [ -1.42893126e-14  -2.31454740e-14   1.12528691e-12]]\n"
     ]
    }
   ],
   "source": [
    "T=V_m+traceHM\n",
    "print T"
   ]
  },
  {
   "cell_type": "code",
   "execution_count": 9,
   "metadata": {
    "collapsed": false
   },
   "outputs": [
    {
     "name": "stdout",
     "output_type": "stream",
     "text": [
      "-3.56630501911e-37\n",
      "[[-0.]]\n",
      "-9.50459055659e-25\n"
     ]
    }
   ],
   "source": [
    "c0=-1.*np.linalg.det(T)\n",
    "print c0\n",
    "c2=-1.*T.trace()\n",
    "print c2\n",
    "c1=T[0, 0]*T[1, 1]+T[0,0]*T[2,2]+T[1,1]*T[2,2]-T[1,2]*T[2,1]-T[0,1]*T[1,0]-T[0,2]*T[2,0]\n",
    "print c1\n",
    "trHm=1e3"
   ]
  },
  {
   "cell_type": "code",
   "execution_count": 10,
   "metadata": {
    "collapsed": false
   },
   "outputs": [
    {
     "name": "stdout",
     "output_type": "stream",
     "text": [
      "1.74249411518e-77\n"
     ]
    }
   ],
   "source": [
    "q=(1./3.)*c1\n",
    "r=-(1./2.)*c0\n",
    "print -c0**2-(4./27)*c1**3\n",
    "s1ps2=2*np.sqrt(-(1./3)*c1)*np.cos((1./3)*np.arctan((1./c0)*np.sqrt(-c0**2-(4./27)*c1**3)))\n",
    "s1ms2=-1j*2*np.sqrt(-(1./3)*c1)*np.sin((1./3)*np.arctan((1./c0)*np.sqrt(-c0**2-(4./27)*c1**3)))"
   ]
  },
  {
   "cell_type": "code",
   "execution_count": 11,
   "metadata": {
    "collapsed": false
   },
   "outputs": [
    {
     "name": "stdout",
     "output_type": "stream",
     "text": [
      "(-5.66666666667e-13+0j) (-5.59059521768e-13+0j) 1.12572618843e-12\n"
     ]
    }
   ],
   "source": [
    "lam1=-(1./2)*s1ps2+1j*np.sqrt(3.)/2 * s1ms2\n",
    "lam2=-(1./2)*s1ps2-1j*np.sqrt(3.)/2 * s1ms2\n",
    "lam3=s1ps2\n",
    "print lam1, lam2, lam3"
   ]
  },
  {
   "cell_type": "code",
   "execution_count": 12,
   "metadata": {
    "collapsed": false
   },
   "outputs": [
    {
     "data": {
      "text/plain": [
       "array([  1.12572619e-12,  -5.66666667e-13,  -5.59059522e-13])"
      ]
     },
     "execution_count": 12,
     "metadata": {},
     "output_type": "execute_result"
    }
   ],
   "source": [
    "eigValuesT, eigVectsT = np.linalg.eig(T)\n",
    "eigValuesT"
   ]
  },
  {
   "cell_type": "code",
   "execution_count": 13,
   "metadata": {
    "collapsed": true
   },
   "outputs": [],
   "source": [
    "def insideSum(lam, L):\n",
    "    global c1\n",
    "    global T\n",
    "    Itty=np.identity(3)\n",
    "    return 1./(3*lam**2 +c1) * ((lam**2 + c1)*Itty + lam*T + T**2)*np.exp(-1j*L*lam)\n",
    "\n",
    "def phi(L, trHm):\n",
    "    Itty=np.identity(3)\n",
    "    return np.exp(-1j*L*Itty)"
   ]
  },
  {
   "cell_type": "code",
   "execution_count": 14,
   "metadata": {
    "collapsed": false
   },
   "outputs": [],
   "source": [
    "def timeOp():\n",
    "    summ=0.\n",
    "    global eigValuesT\n",
    "    global L\n",
    "    global trHm\n",
    "    for lamd in eigValuesT:\n",
    "        summ += insideSum(lamd, L)\n",
    "        summ *= phi(L, trHm)\n",
    "    return summ"
   ]
  },
  {
   "cell_type": "code",
   "execution_count": 15,
   "metadata": {
    "collapsed": false
   },
   "outputs": [
    {
     "data": {
      "text/plain": [
       "matrix([[ 0.81310523-0.11856783j,  1.31471671-1.10745345j,\n",
       "          1.27955212-0.42222399j],\n",
       "        [ 0.79745731-0.3393574j ,  0.32045541-0.04514719j,\n",
       "          0.75571439+0.34105091j],\n",
       "        [ 3.51603901-5.16004913j,  3.50946068-5.16487027j,\n",
       "          4.34016046-5.06221948j]])"
      ]
     },
     "execution_count": 15,
     "metadata": {},
     "output_type": "execute_result"
    }
   ],
   "source": [
    "timeOp()"
   ]
  },
  {
   "cell_type": "code",
   "execution_count": 16,
   "metadata": {
    "collapsed": false
   },
   "outputs": [],
   "source": [
    "TFsq= numCKM*T**2 *numICKM\n"
   ]
  },
  {
   "cell_type": "code",
   "execution_count": 17,
   "metadata": {
    "collapsed": false
   },
   "outputs": [
    {
     "name": "stdout",
     "output_type": "stream",
     "text": [
      "[[ -1.59919820e-18  -4.56381352e-18  -1.14164782e-06]\n",
      " [ -4.56720165e-18   3.55282676e-07  -3.64754117e-07]\n",
      " [ -1.14164782e-06  -3.64754117e-07  -1.34973435e-05]]\n"
     ]
    }
   ],
   "source": [
    "TF=numCKM*T*numICKM\n",
    "term1=(np.real(lam1)**2 + c1)*np.identity(3)\n",
    "term2=np.real(lam1)*TF\n",
    "print  term1*1e20+ term2*1e20  + TFsq*1e20"
   ]
  },
  {
   "cell_type": "code",
   "execution_count": 18,
   "metadata": {
    "collapsed": false
   },
   "outputs": [
    {
     "name": "stdout",
     "output_type": "stream",
     "text": [
      "[[ -6.29347945e-25  -0.00000000e+00  -0.00000000e+00]\n",
      " [ -0.00000000e+00  -6.29347945e-25  -0.00000000e+00]\n",
      " [ -0.00000000e+00  -0.00000000e+00  -6.29347945e-25]]\n",
      "[[ -5.69267982e-25   2.09852298e-25   1.24759367e-25]\n",
      " [  2.09852298e-25   2.68289556e-25  -3.18926942e-26]\n",
      " [  1.24759367e-25  -3.18926942e-26   2.28423925e-25]]\n",
      "[[  1.19861593e-24  -2.09852298e-25  -1.36175845e-25]\n",
      " [ -2.09852298e-25   3.64611215e-25   2.82451530e-26]\n",
      " [ -1.36175845e-25   2.82451530e-26   2.65950585e-25]]\n",
      "-1.59919820442e-18\n"
     ]
    }
   ],
   "source": [
    "print term1\n",
    "print term2\n",
    "print TFsq\n",
    "print term1[0,0]*1e20+term2[0,0]*1e20+TFsq[0,0]*1e20"
   ]
  },
  {
   "cell_type": "code",
   "execution_count": null,
   "metadata": {
    "collapsed": true
   },
   "outputs": [],
   "source": []
  },
  {
   "cell_type": "code",
   "execution_count": null,
   "metadata": {
    "collapsed": true
   },
   "outputs": [],
   "source": []
  },
  {
   "cell_type": "code",
   "execution_count": null,
   "metadata": {
    "collapsed": true
   },
   "outputs": [],
   "source": []
  }
 ],
 "metadata": {
  "anaconda-cloud": {},
  "kernelspec": {
   "display_name": "Python [conda root]",
   "language": "python",
   "name": "conda-root-py"
  },
  "language_info": {
   "codemirror_mode": {
    "name": "ipython",
    "version": 2
   },
   "file_extension": ".py",
   "mimetype": "text/x-python",
   "name": "python",
   "nbconvert_exporter": "python",
   "pygments_lexer": "ipython2",
   "version": "2.7.12"
  }
 },
 "nbformat": 4,
 "nbformat_minor": 1
}
